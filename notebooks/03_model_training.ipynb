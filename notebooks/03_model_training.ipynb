{
 "cells": [
  {
   "cell_type": "code",
   "execution_count": null,
   "id": "cedf5c0e",
   "metadata": {},
   "outputs": [],
   "source": [
    "import sys\n",
    "import os\n",
    "\n",
    "project_root = '' # Give path of your root directory\n",
    "sys.path.append(project_root)"
   ]
  },
  {
   "cell_type": "code",
   "execution_count": 2,
   "id": "f65f541a",
   "metadata": {},
   "outputs": [],
   "source": [
    "import pandas as pd\n",
    "from sklearn.model_selection import train_test_split\n",
    "from src.data_loader import load_data # To load the data from previous step\n",
    "from src.model import train_risk_model, predict_risk_scores, evaluate_risk_model, assign_recovery_strategy, save_model # Import functions from src/model.py"
   ]
  },
  {
   "cell_type": "code",
   "execution_count": null,
   "id": "c384f5fd",
   "metadata": {},
   "outputs": [
    {
     "name": "stdout",
     "output_type": "stream",
     "text": [
      "DataFrame loaded for model training. Head:\n",
      "  Borrower_ID  Age  Gender  Monthly_Income  Num_Dependents Loan_ID  \\\n",
      "0       BRW_1   59       0          215422               0    LN_1   \n",
      "1       BRW_2   49       1           60893               0    LN_2   \n",
      "2       BRW_3   35       0          116520               1    LN_3   \n",
      "3       BRW_4   63       1          140818               2    LN_4   \n",
      "4       BRW_5   28       0           76272               1    LN_5   \n",
      "\n",
      "   Loan_Amount  Loan_Tenure  Interest_Rate  Loan_Type  ...  \\\n",
      "0      1445796           60          12.39          0  ...   \n",
      "1      1044620           12          13.47          1  ...   \n",
      "2      1923410           72           7.74          0  ...   \n",
      "3      1811663           36          12.23          0  ...   \n",
      "4        88578           48          16.13          2  ...   \n",
      "\n",
      "   Employment_Type_Self-Employed  Collection_Method_Debt Collectors  \\\n",
      "0                          False                              False   \n",
      "1                          False                              False   \n",
      "2                          False                              False   \n",
      "3                          False                              False   \n",
      "4                          False                               True   \n",
      "\n",
      "   Collection_Method_Legal Notice  Collection_Method_Settlement Offer  \\\n",
      "0                           False                                True   \n",
      "1                           False                                True   \n",
      "2                            True                               False   \n",
      "3                           False                               False   \n",
      "4                           False                               False   \n",
      "\n",
      "   Loan_to_income_ratio  EMI_to_income_ratio  Has_Collateral  \\\n",
      "0              6.711459             0.022546               1   \n",
      "1             17.155010             0.910346               1   \n",
      "2             16.507123             0.122937               1   \n",
      "3             12.865280             0.044378               1   \n",
      "4              1.161344             0.010705               0   \n",
      "\n",
      "   Borrower_Segment                              Segment_Name  High_Risk_Flag  \n",
      "0                 3     High Income, Large Loan, Managed Risk               0  \n",
      "1                 0  Stable Income, Manageable Loan, Low Risk               0  \n",
      "2                 3     High Income, Large Loan, Managed Risk               0  \n",
      "3                 3     High Income, Large Loan, Managed Risk               0  \n",
      "4                 1           High Loan Burden, Critical Risk               1  \n",
      "\n",
      "[5 rows x 30 columns]\n",
      "\n",
      "Columns after load: ['Borrower_ID', 'Age', 'Gender', 'Monthly_Income', 'Num_Dependents', 'Loan_ID', 'Loan_Amount', 'Loan_Tenure', 'Interest_Rate', 'Loan_Type', 'Collateral_Value', 'Outstanding_Loan_Amount', 'Monthly_EMI', 'Payment_History', 'Num_Missed_Payments', 'Days_Past_Due', 'Recovery_Status', 'Collection_Attempts', 'Legal_Action_Taken', 'Employment_Type_Salaried', 'Employment_Type_Self-Employed', 'Collection_Method_Debt Collectors', 'Collection_Method_Legal Notice', 'Collection_Method_Settlement Offer', 'Loan_to_income_ratio', 'EMI_to_income_ratio', 'Has_Collateral', 'Borrower_Segment', 'Segment_Name', 'High_Risk_Flag']\n"
     ]
    }
   ],
   "source": [
    "df = load_data(r'data\\processed\\segmented_and_flagged_data.csv') # Load the data which you saved previously.\n",
    "print(\"DataFrame loaded for model training. Head:\")\n",
    "print(df.head())\n",
    "print(\"\\nColumns after load:\", df.columns.tolist())"
   ]
  },
  {
   "cell_type": "code",
   "execution_count": null,
   "id": "070ea0fa",
   "metadata": {},
   "outputs": [],
   "source": [
    "X_features_for_rf = [\n",
    "    'Age', 'Monthly_Income', 'Num_Dependents', 'Loan_Amount', 'Loan_Tenure',\n",
    "    'Interest_Rate', 'Collateral_Value', 'Outstanding_Loan_Amount', 'Monthly_EMI',\n",
    "    'Num_Missed_Payments', 'Days_Past_Due', 'Collection_Attempts',\n",
    "    'Loan_to_income_ratio', 'EMI_to_income_ratio', 'Has_Collateral',\n",
    "    \n",
    "    'Gender',\n",
    "    'Payment_History',\n",
    "    'Loan_Type',\n",
    "    'Legal_Action_Taken',\n",
    "    'Employment_Type_Salaried', 'Employment_Type_Self-Employed', \n",
    "    'Collection_Method_Debt Collectors', 'Collection_Method_Legal Notice', 'Collection_Method_Settlement Offer' \n",
    "    \n",
    "]"
   ]
  },
  {
   "cell_type": "code",
   "execution_count": null,
   "id": "469539f1",
   "metadata": {},
   "outputs": [],
   "source": [
    "for feature in X_features_for_rf:\n",
    "    if feature not in df.columns:\n",
    "        print(f\"ERROR: Feature '{feature}' not found in DataFrame for Random Forest. Please check your preprocessing.\")\n",
    "       \n",
    "        X_features_for_rf.remove(feature) "
   ]
  },
  {
   "cell_type": "code",
   "execution_count": 6,
   "id": "ead83e4b",
   "metadata": {},
   "outputs": [
    {
     "name": "stdout",
     "output_type": "stream",
     "text": [
      "\n",
      "Features selected for Random Forest (X): ['Age', 'Monthly_Income', 'Num_Dependents', 'Loan_Amount', 'Loan_Tenure', 'Interest_Rate', 'Collateral_Value', 'Outstanding_Loan_Amount', 'Monthly_EMI', 'Num_Missed_Payments', 'Days_Past_Due', 'Collection_Attempts', 'Loan_to_income_ratio', 'EMI_to_income_ratio', 'Has_Collateral', 'Gender', 'Payment_History', 'Loan_Type', 'Legal_Action_Taken', 'Employment_Type_Salaried', 'Employment_Type_Self-Employed', 'Collection_Method_Debt Collectors', 'Collection_Method_Legal Notice', 'Collection_Method_Settlement Offer']\n",
      "Target variable (y): High_Risk_Flag\n",
      "Target distribution:\n",
      "High_Risk_Flag\n",
      "1    335\n",
      "0    165\n",
      "Name: count, dtype: int64\n"
     ]
    }
   ],
   "source": [
    "X = df[X_features_for_rf]\n",
    "y = df['High_Risk_Flag'] # Your target variable defined by K-Means segments\n",
    "\n",
    "print(f\"\\nFeatures selected for Random Forest (X): {X.columns.tolist()}\")\n",
    "print(f\"Target variable (y): {y.name}\")\n",
    "print(f\"Target distribution:\\n{y.value_counts()}\")"
   ]
  },
  {
   "cell_type": "code",
   "execution_count": 7,
   "id": "2898429b",
   "metadata": {},
   "outputs": [
    {
     "name": "stdout",
     "output_type": "stream",
     "text": [
      "\n",
      "Train set size: 400 samples\n",
      "Test set size: 100 samples\n"
     ]
    }
   ],
   "source": [
    "X_train, X_test, y_train, y_test = train_test_split(X, y, test_size=0.2, random_state=42, stratify=y)\n",
    "print(f\"\\nTrain set size: {len(X_train)} samples\")\n",
    "print(f\"Test set size: {len(X_test)} samples\")"
   ]
  },
  {
   "cell_type": "code",
   "execution_count": null,
   "id": "1df4be63",
   "metadata": {},
   "outputs": [
    {
     "name": "stdout",
     "output_type": "stream",
     "text": [
      "['Age', 'Monthly_Income', 'Num_Dependents', 'Loan_Amount', 'Loan_Tenure', 'Interest_Rate', 'Collateral_Value', 'Outstanding_Loan_Amount', 'Monthly_EMI', 'Num_Missed_Payments', 'Days_Past_Due', 'Collection_Attempts', 'Loan_to_income_ratio', 'EMI_to_income_ratio', 'Has_Collateral', 'Gender', 'Payment_History', 'Loan_Type', 'Legal_Action_Taken', 'Employment_Type_Salaried', 'Employment_Type_Self-Employed', 'Collection_Method_Debt Collectors', 'Collection_Method_Legal Notice', 'Collection_Method_Settlement Offer']\n"
     ]
    }
   ],
   "source": [
    "\n",
    "print(X_train.columns.tolist())"
   ]
  },
  {
   "cell_type": "code",
   "execution_count": 9,
   "id": "39a3a3e9",
   "metadata": {},
   "outputs": [
    {
     "name": "stdout",
     "output_type": "stream",
     "text": [
      "\n",
      "Random Forest model trained.\n"
     ]
    }
   ],
   "source": [
    "rf_model = train_risk_model(X_train, y_train, n_estimators=100, random_state=42)\n",
    "print(\"\\nRandom Forest model trained.\")"
   ]
  },
  {
   "cell_type": "code",
   "execution_count": null,
   "id": "d4a38ffe",
   "metadata": {},
   "outputs": [
    {
     "name": "stdout",
     "output_type": "stream",
     "text": [
      "Model saved to C:\\Loan Recovery ML Project\\outputs\\models\\random_forest_risk_model.joblib\n"
     ]
    }
   ],
   "source": [
    "model_path = r'outputs\\models\\random_forest_risk_model.joblib' # save your model\n",
    "save_model(rf_model, model_path)"
   ]
  },
  {
   "cell_type": "code",
   "execution_count": 11,
   "id": "c7c2dd04",
   "metadata": {},
   "outputs": [
    {
     "name": "stdout",
     "output_type": "stream",
     "text": [
      "\n",
      "Risk scores predicted on test set.\n"
     ]
    }
   ],
   "source": [
    "risk_scores_test = predict_risk_scores(rf_model, X_test)\n",
    "print(\"\\nRisk scores predicted on test set.\")"
   ]
  },
  {
   "cell_type": "code",
   "execution_count": null,
   "id": "ab151cf9",
   "metadata": {},
   "outputs": [],
   "source": [
    "df_test_results = X_test.copy()\n",
    "df_test_results['Risk_Score'] = risk_scores_test\n",
    "df_test_results['Predicted_High_Risk'] = (df_test_results['Risk_Score'] > 0.5).astype(int) "
   ]
  },
  {
   "cell_type": "code",
   "execution_count": 13,
   "id": "5868a96c",
   "metadata": {},
   "outputs": [
    {
     "name": "stdout",
     "output_type": "stream",
     "text": [
      "\n",
      "--- Model Performance Evaluation ---\n",
      "--- Model Evaluation ---\n",
      "Accuracy: 0.9500\n",
      "ROC AUC Score: 0.9959\n",
      "\n",
      "Classification Report:\n",
      "              precision    recall  f1-score   support\n",
      "\n",
      "           0       1.00      0.85      0.92        33\n",
      "           1       0.93      1.00      0.96        67\n",
      "\n",
      "    accuracy                           0.95       100\n",
      "   macro avg       0.97      0.92      0.94       100\n",
      "weighted avg       0.95      0.95      0.95       100\n",
      "\n",
      "\n",
      "Confusion Matrix:\n",
      "[[28  5]\n",
      " [ 0 67]]\n"
     ]
    }
   ],
   "source": [
    "print(\"\\n--- Model Performance Evaluation ---\")\n",
    "evaluate_risk_model(y_test, risk_scores_test, threshold=0.5)"
   ]
  },
  {
   "cell_type": "code",
   "execution_count": null,
   "id": "192c3d1a",
   "metadata": {},
   "outputs": [
    {
     "name": "stdout",
     "output_type": "stream",
     "text": [
      "\n",
      "--- Sample of Test Results with Recovery Strategy ---\n",
      "    Borrower_ID                              Segment_Name  Risk_Score  \\\n",
      "327     BRW_328     High Missed Payments, Behavioral Risk        0.91   \n",
      "270     BRW_271           High Loan Burden, Critical Risk        0.91   \n",
      "477     BRW_478           High Loan Burden, Critical Risk        0.99   \n",
      "177     BRW_178     High Income, Large Loan, Managed Risk        0.09   \n",
      "1         BRW_2  Stable Income, Manageable Loan, Low Risk        0.17   \n",
      "\n",
      "     Predicted_High_Risk                                  Recovery_Strategy  \\\n",
      "327                    1  Immediate legal notices & aggressive recovery ...   \n",
      "270                    1  Immediate legal notices & aggressive recovery ...   \n",
      "477                    1  Immediate legal notices & aggressive recovery ...   \n",
      "177                    0                   Automated reminders & monitoring   \n",
      "1                      0                   Automated reminders & monitoring   \n",
      "\n",
      "     Recovery_Status  \n",
      "327                0  \n",
      "270                0  \n",
      "477                2  \n",
      "177                0  \n",
      "1                  0  \n"
     ]
    }
   ],
   "source": [
    "columns_to_merge = ['Borrower_ID', 'Segment_Name', 'Recovery_Status', 'Collection_Method', 'Collection_Attempts', 'Legal_Action_Taken']\n",
    "\n",
    "existing_cols_to_merge = [col for col in columns_to_merge if col in df.columns]\n",
    "\n",
    "df_test_results = df_test_results.merge(df[existing_cols_to_merge],\n",
    "                                        left_index=True,\n",
    "                                        right_index=True,\n",
    "                                        how='left') \n",
    "\n",
    "\n",
    "df_test_results['Recovery_Strategy'] = df_test_results['Risk_Score'].apply(assign_recovery_strategy)\n",
    "\n",
    "print(\"\\n--- Sample of Test Results with Recovery Strategy ---\")\n",
    "print(df_test_results[['Borrower_ID', 'Segment_Name', 'Risk_Score', 'Predicted_High_Risk', 'Recovery_Strategy', 'Recovery_Status']].head())\n",
    "\n",
    "\n",
    "df_test_results.to_csv(r'C:\\Loan Recovery ML Project\\outputs\\reports\\test_results_with_strategies.csv', index=False) # save this one too."
   ]
  }
 ],
 "metadata": {
  "kernelspec": {
   "display_name": "Python 3",
   "language": "python",
   "name": "python3"
  },
  "language_info": {
   "codemirror_mode": {
    "name": "ipython",
    "version": 3
   },
   "file_extension": ".py",
   "mimetype": "text/x-python",
   "name": "python",
   "nbconvert_exporter": "python",
   "pygments_lexer": "ipython3",
   "version": "3.11.13"
  }
 },
 "nbformat": 4,
 "nbformat_minor": 5
}
