{
 "cells": [
  {
   "cell_type": "code",
   "execution_count": null,
   "id": "be0bedb5",
   "metadata": {},
   "outputs": [],
   "source": [
    "import sys\n",
    "import os\n",
    "\n",
    "project_root = r'' ## Give path of your root directory\n",
    "sys.path.append(project_root)"
   ]
  },
  {
   "cell_type": "code",
   "execution_count": null,
   "id": "d547b801",
   "metadata": {},
   "outputs": [],
   "source": [
    "from src.llm_integration import OPENROUTER_MODEL, explain_prediction, suggest_recovery_actions_llm, generate_recovery_report\n",
    "\n",
    "\n",
    "from src.data_loader import load_data\n",
    "from src.model import load_model, predict_risk_scores, assign_recovery_strategy\n",
    "import pandas as pd"
   ]
  },
  {
   "cell_type": "code",
   "execution_count": null,
   "id": "a7b70435",
   "metadata": {},
   "outputs": [
    {
     "name": "stdout",
     "output_type": "stream",
     "text": [
      "Model loaded from C:\\Loan Recovery ML Project\\outputs\\models\\random_forest_risk_model.joblib\n"
     ]
    }
   ],
   "source": [
    "# Load your trained model\n",
    "rf_model = load_model(r'outputs\\models\\random_forest_risk_model.joblib')\n",
    "\n",
    "# Load your segmented and flagged data \n",
    "df_full = load_data(r'data\\processed\\segmented_and_flagged_data.csv')\n",
    "\n",
    "\n",
    "X_features_for_rf = [\n",
    "    'Age', 'Monthly_Income', 'Num_Dependents', 'Loan_Amount', 'Loan_Tenure',\n",
    "    'Interest_Rate', 'Collateral_Value', 'Outstanding_Loan_Amount', 'Monthly_EMI',\n",
    "    'Num_Missed_Payments', 'Days_Past_Due', 'Collection_Attempts',\n",
    "    'Loan_to_income_ratio', 'EMI_to_income_ratio', 'Has_Collateral',\n",
    "    'Gender', 'Payment_History', 'Loan_Type', 'Legal_Action_Taken',\n",
    "    'Employment_Type_Salaried', 'Employment_Type_Self-Employed',\n",
    "    'Collection_Method_Debt Collectors', 'Collection_Method_Legal Notice', 'Collection_Method_Settlement Offer'\n",
    "]\n",
    "\n",
    "\n",
    "feature_importances_raw = rf_model.feature_importances_\n",
    "feature_importance_map = dict(zip(X_features_for_rf, feature_importances_raw))\n",
    "\n",
    "\n",
    "top_n_features = sorted(feature_importance_map.items(), key=lambda item: item[1], reverse=True)[:5]\n",
    "top_n_features_dict = {k: v for k, v in top_n_features}"
   ]
  },
  {
   "cell_type": "code",
   "execution_count": null,
   "id": "6ed50359",
   "metadata": {},
   "outputs": [
    {
     "name": "stdout",
     "output_type": "stream",
     "text": [
      "--- Example 1: High-Risk Borrower Explanation ---\n",
      "\n",
      "Borrower ID: BRW_122\n",
      "Segment: High Missed Payments, Behavioral Risk\n",
      "Predicted Risk Score: 0.99\n",
      "Assigned Strategy: Immediate legal notices & aggressive recovery attempts\n",
      "\n",
      "LLM Explanation:\n",
      "Based on the provided details and the prediction of high risk (Score: 0.99), here are the reasons why the borrower has been segmented into the \"High Missed Payments, Behavioral Risk\" category and the suggested strategy of \"Immediate legal notices & aggressive recovery attempts\":\n",
      "\n",
      "1. **Num Missed Payments (1)**: The borrower has already missed one payment. While this is the first missed payment, it serves as an early warning sign of potential default.\n",
      "\n",
      "2. **Loan Amount (855351)**: The loan amount is substantial, making it a significant risk if the borrower defaults. The high loan amount contributes 0.17 to the prediction score.\n",
      "\n",
      "3. **EMI to Income Ratio (0.139)**: The Equated Monthly Installment (EMI) to income ratio is relatively low at approximately 13.9%. While this might seem manageable, it's important to consider other factors.\n",
      "\n",
      "4. **Loan to Income Ratio (19.606)**: The loan to income ratio is high, meaning the borrower has taken a significant loan relative to their income. This contributes 0.07 to the prediction score and indicates that the borrower might struggle with repayment, especially if their income fluctuates or decreases.\n",
      "\n",
      "5. **Collateral Value and Has Collateral**: The presence of collateral (contributing 0.11 to the prediction score) and its value (contributing 0.30 to the prediction score) are influential factors. While collateral can provide a safety net for the lender, the high risk prediction suggests that the borrowing is not in line with the collateral's value or that the collateral itself may be of questionable value.\n",
      "\n",
      "6. **Outstanding Loan Amount (0.07)**: The remaining loan amount to be repaid is also a contributing factor, indicating the potential loss if the borrower defaults.\n",
      "\n",
      "Given these factors, the prediction model has flagged this borrower as high risk. The suggested strategy of immediate legal notices and aggressive recovery attempts aims to mitigate the risk of default and encourage the borrower to prioritize their loan repayments. The borrower might benefit from financial counseling or restructuring their loan to make repayments more manageable. However, the immediate focus is on recovery due to the high risk prediction.\n"
     ]
    }
   ],
   "source": [
    "print(\"--- Example 1: High-Risk Borrower Explanation ---\")\n",
    "\n",
    "high_risk_borrowers = df_full[df_full['High_Risk_Flag'] == 1].sample(1, random_state=1)\n",
    "if high_risk_borrowers.empty:\n",
    "    print(\"No high-risk borrowers found in the dataset to sample.\")\n",
    "else:\n",
    "    sample_borrower = high_risk_borrowers.iloc[0]\n",
    "\n",
    "    \n",
    "    borrower_data_for_llm = sample_borrower[['Monthly_Income', 'Loan_Amount', 'Num_Missed_Payments', 'EMI_to_income_ratio', 'Loan_to_income_ratio']].to_dict()\n",
    "    predicted_risk_score = predict_risk_scores(rf_model, pd.DataFrame([sample_borrower[X_features_for_rf]]))\n",
    "    predicted_strategy = assign_recovery_strategy(predicted_risk_score[0])\n",
    "    segment_info = sample_borrower['Segment_Name']\n",
    "\n",
    "    explanation = explain_prediction(\n",
    "        borrower_data_for_llm,\n",
    "        predicted_risk_score[0],\n",
    "        predicted_strategy,\n",
    "        top_n_features_dict,\n",
    "        segment_info\n",
    "    )\n",
    "    print(f\"\\nBorrower ID: {sample_borrower['Borrower_ID']}\")\n",
    "    print(f\"Segment: {segment_info}\")\n",
    "    print(f\"Predicted Risk Score: {predicted_risk_score[0]:.2f}\")\n",
    "    print(f\"Assigned Strategy: {predicted_strategy}\")\n",
    "    print(\"\\nLLM Explanation:\")\n",
    "    print(explanation)"
   ]
  },
  {
   "cell_type": "code",
   "execution_count": null,
   "id": "9ebfa4e8",
   "metadata": {},
   "outputs": [
    {
     "name": "stdout",
     "output_type": "stream",
     "text": [
      "\n",
      "--- Example 2: Nuanced Recovery Actions ---\n",
      "\n",
      "LLM Suggested Actions:\n",
      "Given the borrower's high risk score and profile, here are some specific, actionable recovery strategies:\n",
      "\n",
      "**Immediate Actions:**\n",
      "\n",
      "- **Send a Formal Demand Letter:** Dispatch a registered letter demanding full payment within a specified timeframe (e.g., 7 days). Clearly state the consequences of non-payment.\n",
      "- **Initiate Daily Contact Attempts:** Utilize multiple channels (calls, SMS, emails) to reach the borrower. Ensure compliance with local regulations and fair debt collection practices.\n",
      "- **Asset Check:** Verify if the borrower has any assets (property, vehicles, investments) that can be used as collateral or seized if necessary.\n",
      "\n",
      "**Alternative Strategies:**\n",
      "\n",
      "- **Negotiated Settlement:** Offer a settlement plan that the borrower can realistically follow. This could include:\n",
      "  - A lump-sum settlement for a reduced amount.\n",
      "  - A short-term repayment plan with lower EMIs.\n",
      "  - Extending the loan tenure to reduce the monthly burden.\n",
      "\n",
      "- **Behavioral Interventions:**\n",
      "  - **Personalized Communication:** Tailor messages to address the borrower's specific situation, showing empathy and willingness to help.\n",
      "  - **Financial Counseling:** Offer access to financial counseling services to help the borrower manage their finances better.\n",
      "\n",
      "- **Guarantor/Legal Co-applicant Involvement:** If applicable, involve the guarantor or legal co-applicant in the recovery process. They may be able to assist in repaying the loan or convincing the borrower to do so.\n",
      "\n",
      "- **Credit Bureau Reporting:** Report the missed payment to credit bureaus, which may incentivize the borrower to pay to protect their credit score.\n",
      "\n",
      "- **Legal Actions (if necessary):**\n",
      "  - **File a Lawsuit:** If the borrower remains unresponsive, initiate legal proceedings to recover the debt.\n",
      "  - **Obtain a Judgment:** Secure a court judgment that allows for wage garnishment, bank levies, or asset seizure.\n",
      "  - **Hire a Collection Agency:** If internal efforts fail, engage a professional collection agency.\n",
      "\n",
      "**Monitoring and Follow-up:**\n",
      "\n",
      "- **Regularly Review the Borrower's Profile:** Keep track of any changes in the borrower's financial situation that could impact their ability to repay.\n",
      "- **Document All Interactions:** Maintain a detailed record of all communication attempts and the borrower's responses.\n",
      "- **Escalate as Necessary:** If initial strategies fail, escalate to more aggressive\n"
     ]
    }
   ],
   "source": [
    "if not high_risk_borrowers.empty: \n",
    "    print(\"\\n--- Example 2: Nuanced Recovery Actions ---\")\n",
    "    llm_suggestions = suggest_recovery_actions_llm(\n",
    "        borrower_data_for_llm,\n",
    "        predicted_risk_score[0],\n",
    "        predicted_strategy,\n",
    "        segment_info\n",
    "    )\n",
    "    print(\"\\nLLM Suggested Actions:\")\n",
    "    print(llm_suggestions)\n",
    "else:\n",
    "    print(\"Skipping Example 2 as no high-risk borrower was sampled for explanation.\")"
   ]
  },
  {
   "cell_type": "code",
   "execution_count": null,
   "id": "cd0e7390",
   "metadata": {},
   "outputs": [
    {
     "name": "stdout",
     "output_type": "stream",
     "text": [
      "\n",
      "--- Example 3: Daily Recovery Report ---\n",
      "\n",
      "Daily Recovery Report:\n",
      "**Daily Loan Recovery Report - 2025-07-30 15:52:11 IST**\n",
      "\n",
      "**Overview:**\n",
      "Today, 5 high-risk borrowers were identified, all requiring immediate legal notices and aggressive recovery attempts. The common theme among these cases is a high EMI ratio and significant loan amounts relative to their incomes, indicating a high loan burden and critical risk. Notably, some borrowers have a high risk score despite having no missed payments, emphasizing the importance of considering multiple risk factors.\n",
      "\n",
      "**Common Characteristics:**\n",
      "\n",
      "1. **High EMI Ratio:** All cases have an EMI ratio above 0.01, with some as high as 0.15, indicating a significant portion of their income goes toward loan repayments.\n",
      "\n",
      "2. **High Loan Burden:** Loan amounts are substantial relative to their monthly incomes, with one borrower having a loan amount nearly 10 times their monthly income.\n",
      "\n",
      "3. **Missed Payments:** While some borrowers have multiple missed payments, others have none. This underscores the importance of considering multiple risk factors beyond just missed payments.\n",
      "\n",
      "4. **Critical Risk:** All identified borrowers have a risk score of 0.98 or higher, placing them in the critical risk segment.\n",
      "\n",
      "**General Recommendations for the Recovery Team:**\n",
      "\n",
      "1. **Immediate Action:** Initiate legal notices and aggressive recovery attempts for all identified high-risk borrowers as per the assigned strategy.\n",
      "\n",
      "2. **Personalized Communication:** Reach out to these borrowers personally to understand their situation and explore possible solutions. High EMI ratios and loan burdens suggest they may benefit from loan restructuring or refinancing options.\n",
      "\n",
      "3. **Monitor Closely:** Even if immediate payment is secured, continue to monitor these borrowers closely due to their high-risk status.\n",
      "\n",
      "4. **Review Risk Factors:** Regularly review and update risk factors to ensure all cases are evaluated holistically. Consider factors like income stability, credit history, and debt-to-income ratio.\n",
      "\n",
      "5. **Follow Up:** Schedule follow-up actions to ensure continuous engagement and track progress on recovery efforts.\n",
      "\n",
      "**Actionable Insights:**\n",
      "\n",
      "- Consider implementing an early warning system for borrowers with high EMI ratios but no missed payments.\n",
      "- Explore the possibility of offering financial counseling or debt management services to high-risk borrowers to help them manage their debt more effectively.\n",
      "- Regularly review and update the risk scoring model to ensure it accurately reflects the current risk landscape.\n",
      "\n",
      "By taking immediate and personalized action, closely monitoring high-risk borrowers, and continuously reviewing risk factors, the recovery team can effectively manage these cases and mitigate potential losses.\n"
     ]
    }
   ],
   "source": [
    "print(\"\\n--- Example 3: Daily Recovery Report ---\")\n",
    "simulated_daily_cases = df_full[df_full['High_Risk_Flag'] == 1].sample(min(5, len(df_full[df_full['High_Risk_Flag'] == 1])), random_state=42).copy()\n",
    "\n",
    "if not simulated_daily_cases.empty:\n",
    "    simulated_daily_cases['Risk_Score_Pred'] = predict_risk_scores(rf_model, simulated_daily_cases[X_features_for_rf])\n",
    "    simulated_daily_cases['Recovery_Strategy_Assigned'] = simulated_daily_cases['Risk_Score_Pred'].apply(assign_recovery_strategy)\n",
    "\n",
    "    report_data = []\n",
    "    for index, row in simulated_daily_cases.iterrows():\n",
    "        report_data.append({\n",
    "            'Borrower_ID': row['Borrower_ID'],\n",
    "            'Risk_Score': row['Risk_Score_Pred'],\n",
    "            'Segment_Name': row['Segment_Name'],\n",
    "            'Recovery_Strategy': row['Recovery_Strategy_Assigned'],\n",
    "            'Monthly_Income': row['Monthly_Income'],\n",
    "            'Loan_Amount': row['Loan_Amount'],\n",
    "            'Num_Missed_Payments': row['Num_Missed_Payments'],\n",
    "            'EMI_to_income_ratio': row['EMI_to_income_ratio']\n",
    "        })\n",
    "\n",
    "    daily_report = generate_recovery_report(report_data)\n",
    "    print(\"\\nDaily Recovery Report:\")\n",
    "    print(daily_report)\n",
    "else:\n",
    "    print(\"No high-risk borrowers found to generate a daily report.\")"
   ]
  },
  {
   "cell_type": "code",
   "execution_count": null,
   "id": "d15b37cb",
   "metadata": {},
   "outputs": [],
   "source": []
  }
 ],
 "metadata": {
  "kernelspec": {
   "display_name": "Python 3",
   "language": "python",
   "name": "python3"
  },
  "language_info": {
   "codemirror_mode": {
    "name": "ipython",
    "version": 3
   },
   "file_extension": ".py",
   "mimetype": "text/x-python",
   "name": "python",
   "nbconvert_exporter": "python",
   "pygments_lexer": "ipython3",
   "version": "3.11.13"
  }
 },
 "nbformat": 4,
 "nbformat_minor": 5
}
