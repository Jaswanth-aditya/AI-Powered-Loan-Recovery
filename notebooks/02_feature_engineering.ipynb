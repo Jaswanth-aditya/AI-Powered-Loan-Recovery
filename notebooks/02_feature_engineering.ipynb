{
 "cells": [
  {
   "cell_type": "code",
   "execution_count": null,
   "id": "da9ee597",
   "metadata": {},
   "outputs": [],
   "source": [
    "import sys\n",
    "import os\n",
    "\n",
    "project_root = '' # Give path of your root directory\n",
    "sys.path.append(project_root)"
   ]
  },
  {
   "cell_type": "code",
   "execution_count": null,
   "id": "c91ed809",
   "metadata": {},
   "outputs": [],
   "source": [
    "from src.preprocessing import preprocess_data\n",
    "processed_df = preprocess_data(raw_df.copy()) "
   ]
  },
  {
   "cell_type": "code",
   "execution_count": null,
   "id": "6e6761d7",
   "metadata": {},
   "outputs": [],
   "source": [
    "# After adding cluster labels\n",
    "from src.data_loader import save_processed_data\n",
    "save_processed_data(processed_df, r'data\\processed\\processed_data.csv') # save it."
   ]
  },
  {
   "cell_type": "code",
   "execution_count": null,
   "id": "33976996",
   "metadata": {},
   "outputs": [
    {
     "data": {
      "text/html": [
       "<div>\n",
       "<style scoped>\n",
       "    .dataframe tbody tr th:only-of-type {\n",
       "        vertical-align: middle;\n",
       "    }\n",
       "\n",
       "    .dataframe tbody tr th {\n",
       "        vertical-align: top;\n",
       "    }\n",
       "\n",
       "    .dataframe thead th {\n",
       "        text-align: right;\n",
       "    }\n",
       "</style>\n",
       "<table border=\"1\" class=\"dataframe\">\n",
       "  <thead>\n",
       "    <tr style=\"text-align: right;\">\n",
       "      <th></th>\n",
       "      <th>Borrower_ID</th>\n",
       "      <th>Age</th>\n",
       "      <th>Gender</th>\n",
       "      <th>Monthly_Income</th>\n",
       "      <th>Num_Dependents</th>\n",
       "      <th>Loan_ID</th>\n",
       "      <th>Loan_Amount</th>\n",
       "      <th>Loan_Tenure</th>\n",
       "      <th>Interest_Rate</th>\n",
       "      <th>Loan_Type</th>\n",
       "      <th>...</th>\n",
       "      <th>Collection_Attempts</th>\n",
       "      <th>Legal_Action_Taken</th>\n",
       "      <th>Employment_Type_Salaried</th>\n",
       "      <th>Employment_Type_Self-Employed</th>\n",
       "      <th>Collection_Method_Debt Collectors</th>\n",
       "      <th>Collection_Method_Legal Notice</th>\n",
       "      <th>Collection_Method_Settlement Offer</th>\n",
       "      <th>Loan_to_income_ratio</th>\n",
       "      <th>EMI_to_income_ratio</th>\n",
       "      <th>Has_Collateral</th>\n",
       "    </tr>\n",
       "  </thead>\n",
       "  <tbody>\n",
       "    <tr>\n",
       "      <th>0</th>\n",
       "      <td>BRW_1</td>\n",
       "      <td>59</td>\n",
       "      <td>0</td>\n",
       "      <td>215422</td>\n",
       "      <td>0</td>\n",
       "      <td>LN_1</td>\n",
       "      <td>1445796</td>\n",
       "      <td>60</td>\n",
       "      <td>12.39</td>\n",
       "      <td>0</td>\n",
       "      <td>...</td>\n",
       "      <td>1</td>\n",
       "      <td>0</td>\n",
       "      <td>True</td>\n",
       "      <td>False</td>\n",
       "      <td>False</td>\n",
       "      <td>False</td>\n",
       "      <td>True</td>\n",
       "      <td>6.711459</td>\n",
       "      <td>0.022546</td>\n",
       "      <td>1</td>\n",
       "    </tr>\n",
       "    <tr>\n",
       "      <th>1</th>\n",
       "      <td>BRW_2</td>\n",
       "      <td>49</td>\n",
       "      <td>1</td>\n",
       "      <td>60893</td>\n",
       "      <td>0</td>\n",
       "      <td>LN_2</td>\n",
       "      <td>1044620</td>\n",
       "      <td>12</td>\n",
       "      <td>13.47</td>\n",
       "      <td>1</td>\n",
       "      <td>...</td>\n",
       "      <td>2</td>\n",
       "      <td>0</td>\n",
       "      <td>True</td>\n",
       "      <td>False</td>\n",
       "      <td>False</td>\n",
       "      <td>False</td>\n",
       "      <td>True</td>\n",
       "      <td>17.155010</td>\n",
       "      <td>0.910346</td>\n",
       "      <td>1</td>\n",
       "    </tr>\n",
       "    <tr>\n",
       "      <th>2</th>\n",
       "      <td>BRW_3</td>\n",
       "      <td>35</td>\n",
       "      <td>0</td>\n",
       "      <td>116520</td>\n",
       "      <td>1</td>\n",
       "      <td>LN_3</td>\n",
       "      <td>1923410</td>\n",
       "      <td>72</td>\n",
       "      <td>7.74</td>\n",
       "      <td>0</td>\n",
       "      <td>...</td>\n",
       "      <td>2</td>\n",
       "      <td>0</td>\n",
       "      <td>True</td>\n",
       "      <td>False</td>\n",
       "      <td>False</td>\n",
       "      <td>True</td>\n",
       "      <td>False</td>\n",
       "      <td>16.507123</td>\n",
       "      <td>0.122937</td>\n",
       "      <td>1</td>\n",
       "    </tr>\n",
       "    <tr>\n",
       "      <th>3</th>\n",
       "      <td>BRW_4</td>\n",
       "      <td>63</td>\n",
       "      <td>1</td>\n",
       "      <td>140818</td>\n",
       "      <td>2</td>\n",
       "      <td>LN_4</td>\n",
       "      <td>1811663</td>\n",
       "      <td>36</td>\n",
       "      <td>12.23</td>\n",
       "      <td>0</td>\n",
       "      <td>...</td>\n",
       "      <td>2</td>\n",
       "      <td>0</td>\n",
       "      <td>True</td>\n",
       "      <td>False</td>\n",
       "      <td>False</td>\n",
       "      <td>False</td>\n",
       "      <td>False</td>\n",
       "      <td>12.865280</td>\n",
       "      <td>0.044378</td>\n",
       "      <td>1</td>\n",
       "    </tr>\n",
       "    <tr>\n",
       "      <th>4</th>\n",
       "      <td>BRW_5</td>\n",
       "      <td>28</td>\n",
       "      <td>0</td>\n",
       "      <td>76272</td>\n",
       "      <td>1</td>\n",
       "      <td>LN_5</td>\n",
       "      <td>88578</td>\n",
       "      <td>48</td>\n",
       "      <td>16.13</td>\n",
       "      <td>2</td>\n",
       "      <td>...</td>\n",
       "      <td>0</td>\n",
       "      <td>0</td>\n",
       "      <td>True</td>\n",
       "      <td>False</td>\n",
       "      <td>True</td>\n",
       "      <td>False</td>\n",
       "      <td>False</td>\n",
       "      <td>1.161344</td>\n",
       "      <td>0.010705</td>\n",
       "      <td>0</td>\n",
       "    </tr>\n",
       "  </tbody>\n",
       "</table>\n",
       "<p>5 rows × 27 columns</p>\n",
       "</div>"
      ],
      "text/plain": [
       "  Borrower_ID  Age  Gender  Monthly_Income  Num_Dependents Loan_ID  \\\n",
       "0       BRW_1   59       0          215422               0    LN_1   \n",
       "1       BRW_2   49       1           60893               0    LN_2   \n",
       "2       BRW_3   35       0          116520               1    LN_3   \n",
       "3       BRW_4   63       1          140818               2    LN_4   \n",
       "4       BRW_5   28       0           76272               1    LN_5   \n",
       "\n",
       "   Loan_Amount  Loan_Tenure  Interest_Rate  Loan_Type  ...  \\\n",
       "0      1445796           60          12.39          0  ...   \n",
       "1      1044620           12          13.47          1  ...   \n",
       "2      1923410           72           7.74          0  ...   \n",
       "3      1811663           36          12.23          0  ...   \n",
       "4        88578           48          16.13          2  ...   \n",
       "\n",
       "   Collection_Attempts  Legal_Action_Taken  Employment_Type_Salaried  \\\n",
       "0                    1                   0                      True   \n",
       "1                    2                   0                      True   \n",
       "2                    2                   0                      True   \n",
       "3                    2                   0                      True   \n",
       "4                    0                   0                      True   \n",
       "\n",
       "   Employment_Type_Self-Employed  Collection_Method_Debt Collectors  \\\n",
       "0                          False                              False   \n",
       "1                          False                              False   \n",
       "2                          False                              False   \n",
       "3                          False                              False   \n",
       "4                          False                               True   \n",
       "\n",
       "   Collection_Method_Legal Notice  Collection_Method_Settlement Offer  \\\n",
       "0                           False                                True   \n",
       "1                           False                                True   \n",
       "2                            True                               False   \n",
       "3                           False                               False   \n",
       "4                           False                               False   \n",
       "\n",
       "   Loan_to_income_ratio  EMI_to_income_ratio  Has_Collateral  \n",
       "0              6.711459             0.022546               1  \n",
       "1             17.155010             0.910346               1  \n",
       "2             16.507123             0.122937               1  \n",
       "3             12.865280             0.044378               1  \n",
       "4              1.161344             0.010705               0  \n",
       "\n",
       "[5 rows x 27 columns]"
      ]
     },
     "execution_count": 5,
     "metadata": {},
     "output_type": "execute_result"
    }
   ],
   "source": [
    "processed_df.head()"
   ]
  },
  {
   "cell_type": "code",
   "execution_count": null,
   "id": "3060dc9c",
   "metadata": {},
   "outputs": [],
   "source": [
    "import pandas as pd\n",
    "from src.data_loader import load_data, save_processed_data \n",
    "from src.preprocessing import save_scaler, save_kmeans_model\n",
    "from sklearn.preprocessing import StandardScaler\n",
    "from sklearn.cluster import KMeans\n",
    "import plotly.express as px\n",
    "import matplotlib.pyplot as plt \n",
    "import seaborn as sns "
   ]
  },
  {
   "cell_type": "code",
   "execution_count": null,
   "id": "fb79794f",
   "metadata": {},
   "outputs": [
    {
     "name": "stdout",
     "output_type": "stream",
     "text": [
      "DataFrame loaded. Head:\n",
      "  Borrower_ID  Age  Gender  Monthly_Income  Num_Dependents Loan_ID  \\\n",
      "0       BRW_1   59       0          215422               0    LN_1   \n",
      "1       BRW_2   49       1           60893               0    LN_2   \n",
      "2       BRW_3   35       0          116520               1    LN_3   \n",
      "3       BRW_4   63       1          140818               2    LN_4   \n",
      "4       BRW_5   28       0           76272               1    LN_5   \n",
      "\n",
      "   Loan_Amount  Loan_Tenure  Interest_Rate  Loan_Type  ...  \\\n",
      "0      1445796           60          12.39          0  ...   \n",
      "1      1044620           12          13.47          1  ...   \n",
      "2      1923410           72           7.74          0  ...   \n",
      "3      1811663           36          12.23          0  ...   \n",
      "4        88578           48          16.13          2  ...   \n",
      "\n",
      "   Collection_Attempts  Legal_Action_Taken  Employment_Type_Salaried  \\\n",
      "0                    1                   0                      True   \n",
      "1                    2                   0                      True   \n",
      "2                    2                   0                      True   \n",
      "3                    2                   0                      True   \n",
      "4                    0                   0                      True   \n",
      "\n",
      "   Employment_Type_Self-Employed  Collection_Method_Debt Collectors  \\\n",
      "0                          False                              False   \n",
      "1                          False                              False   \n",
      "2                          False                              False   \n",
      "3                          False                              False   \n",
      "4                          False                               True   \n",
      "\n",
      "   Collection_Method_Legal Notice  Collection_Method_Settlement Offer  \\\n",
      "0                           False                                True   \n",
      "1                           False                                True   \n",
      "2                            True                               False   \n",
      "3                           False                               False   \n",
      "4                           False                               False   \n",
      "\n",
      "   Loan_to_income_ratio  EMI_to_income_ratio  Has_Collateral  \n",
      "0              6.711459             0.022546               1  \n",
      "1             17.155010             0.910346               1  \n",
      "2             16.507123             0.122937               1  \n",
      "3             12.865280             0.044378               1  \n",
      "4              1.161344             0.010705               0  \n",
      "\n",
      "[5 rows x 27 columns]\n",
      "\n",
      "Columns after load: ['Borrower_ID', 'Age', 'Gender', 'Monthly_Income', 'Num_Dependents', 'Loan_ID', 'Loan_Amount', 'Loan_Tenure', 'Interest_Rate', 'Loan_Type', 'Collateral_Value', 'Outstanding_Loan_Amount', 'Monthly_EMI', 'Payment_History', 'Num_Missed_Payments', 'Days_Past_Due', 'Recovery_Status', 'Collection_Attempts', 'Legal_Action_Taken', 'Employment_Type_Salaried', 'Employment_Type_Self-Employed', 'Collection_Method_Debt Collectors', 'Collection_Method_Legal Notice', 'Collection_Method_Settlement Offer', 'Loan_to_income_ratio', 'EMI_to_income_ratio', 'Has_Collateral']\n"
     ]
    }
   ],
   "source": [
    "df = load_data(r'data\\processed\\processed_data.csv') # Load the preprocessed data.\n",
    "print(\"DataFrame loaded. Head:\")\n",
    "print(df.head())\n",
    "print(\"\\nColumns after load:\", df.columns.tolist())"
   ]
  },
  {
   "cell_type": "code",
   "execution_count": 5,
   "id": "090b8ead",
   "metadata": {},
   "outputs": [
    {
     "data": {
      "image/png": "[encoded data removed]",
      "text/plain": [
       "<Figure size 1000x600 with 1 Axes>"
      ]
     },
     "metadata": {},
     "output_type": "display_data"
    }
   ],
   "source": [
    "kmeans_features = [\n",
    "    'Age', 'Monthly_Income', 'Loan_Amount', 'Loan_Tenure', 'Interest_Rate',\n",
    "    'Collateral_Value', 'Outstanding_Loan_Amount', 'Monthly_EMI',\n",
    "    'Num_Missed_Payments', 'Days_Past_Due',\n",
    "    'Loan_to_income_ratio',  \n",
    "    'EMI_to_income_ratio',   \n",
    "    'Has_Collateral'\n",
    "]\n",
    "\n",
    "for feature in kmeans_features:\n",
    "    if feature not in df.columns:\n",
    "        print(f\"Warning '{feature} not found in DataFrame for K-Means. Check your preprocessing\")\n",
    "\n",
    "scaler = StandardScaler()\n",
    "df_scaled_kmeans = scaler.fit_transform(df[kmeans_features])\n",
    "\n",
    "wcss = []\n",
    "for i in range(1,11):\n",
    "    kmeans_temp = KMeans(n_clusters=i,init='k-means++',random_state=42, n_init=10)\n",
    "    kmeans_temp.fit(df_scaled_kmeans)\n",
    "    wcss.append(kmeans_temp.inertia_)\n",
    "\n",
    "plt.figure(figsize=(10, 6))\n",
    "plt.plot(range(1, 11), wcss, marker='o', linestyle='--')\n",
    "plt.title('Elbow Method for Optimal K')\n",
    "plt.xlabel('Number of Clusters (K)')\n",
    "plt.ylabel('WCSS')\n",
    "plt.xticks(range(1, 11))\n",
    "plt.grid(True)\n",
    "plt.show()"
   ]
  },
  {
   "cell_type": "code",
   "execution_count": null,
   "id": "3c0d8138",
   "metadata": {},
   "outputs": [
    {
     "data": {
      "application/vnd.plotly.v1+json": {
       "config": {
        "plotlyServerURL": "https://plot.ly"
       },
       "data": [
        {
         "customdata": {
          "bdata": "AwEDAAMAAwEDAAMCAwADAAMAAwADAAMAAwEDAAMAAwEDAQMAAwIDAAMAAwIDAAMAAwADAAMAAwEDAAMBAwADAQMAAwADAAMCAwEDAAMAAwADAAMAAwADAAMBAwADAAMBAwADAQMAAwADAQMAAwEDAAMBAwADAAMAAwEDAAMAAwADAgMBAwIDAAMBAwEDAAMAAwADAAMAAwADAAMAAwADAAMAAwADAQMAAwEDAAMAAwADAAMAAwADAAMAAwADAAMBAwEDAAMAAwIDAQMAAwADAQMBAwADAQMBAwADAAMBAwADAgMAAwEDAAMAAwEDAAMAAwADAAMAAwEDAAMBAwADAQMBAwIDAQMAAwADAQ==",
          "dtype": "i1",
          "shape": "134, 2"
         },
         "hovertemplate": "color=3<br>Monthly Income ($)=%{x}<br>Loan Amount ($)=%{marker.size}<br>Segment=%{customdata[0]}<br>Recovery_Status=%{customdata[1]}<extra></extra>",
         "legendgroup": "3",
         "marker": {
          "color": "rgb(229, 134, 6)",
          "size": {
           "bdata": "pA8WAFJZHQDPpBsAfhoXAEITEwBOOR4A+A8cABQrEwCJihEAAsMdAM3AFgBHLRcAZdcSAED+GACKcRYARnMbAPm+GwAKVRYAIOcTACVuHAC+9xUAOO0UABUgFAA+Jx4A5sQRAExFGQDNiRgAiLwYAEr2HADAZB0AotYTAPJQGACd0wwADFYLAIowEwCiEhAAAGMQAKLsGgAUiRAAn3AWANXEFgCunxoANBMUAB2QGACiFRYAIXgdAB9VDQBbFxIAakAcAFSlGACI7RIAcA8aAIGDHAAUnBwAyqIWAC3zFQCeAR4AXekRAIVaHgChnB0AiDUaANcoEQCNmRsAiWEcAI0oEwChfxgAKpIWAJYxFQBZdhEAcvobAFFZFgDL2RcAZ8ITAHawFQA+yQ8AKgMcAHjNDQC7vxsAMlEUAAq5GACQ5x0AhLYdAOSuFgBokxwAVvcPAP/jHQD11x0AQ4obAKSIFQDrwhwA0zUYAOrCGgDpIhIAPLkbAHbrDAAvuR0AlFMUAIzjHQCJiBMA8AccAJz9FABGxxwAPXIeAD0lEAAgHhEAqOIQAAsTHgBrbhMABSoWANgVHgChChcAh/USAAoQEgCkvhAAyrsRAEkLGACeKBQAYeEdAOVhGgAJsg4AHPgbACVAGgDWYxsAupYTAIU2GQDQ3xIAhiYTAPXuEQC1yQ0AP9cUAOwmFQBASxoAFj0XAKIBGwA=",
           "dtype": "i4"
          },
          "sizemode": "area",
          "sizeref": 4988.3125,
          "symbol": "circle"
         },
         "mode": "markers",
         "name": "3",
         "orientation": "v",
         "showlegend": true,
         "type": "scatter",
         "x": {
          "bdata": "fkkDACjHAQASJgIA2UIBAE8qAQA7uQMAxscDACIIAgANvQAAmN8CAEJxAQCz3wEAEIcDAHxSAwA8owEAyKMDAA9hAAAzAwIAAz0CAAmKAgC8nwMA0s4DAInDAgCSzwMAFTsDAHDrAADJlwEAtCkBAE8XAQAOzwMAcXcCAAkTAwAodwMACOoBAPDLAgBbsgIAZ/IAAMffAgDx6AEAc8cAAFlKAwDbnwIA6VgBAIC+AQDvPwIA8KABACZJAAAmwwEAcNABAEOSAgD9cgEARcYDAJreAQDHxQIAM6IDAHQ3AwDDZwIAe/EAAMV5AwAuvAIADKcDABOPAQCwFQEA2+sAALnxAgBb/gIAssgCADNvAgAB+wEAKeEBAJlqAABI6gIA5OQCAOH4AgA2MwEAVpYDAM+DAABBmgMATw4CAG2VAwARZAEAMccDAPvIAgApOwEAyKAAAKKgAQAhHQEAmb0DALrxAQDsOAEAwSACAEAqAgCIuQMAwWQBAD6fAwB88QEA3c4DAMhUAQBTTgMAnGQAAJmFAgAtPQIAuygDAHT4AADGRwEAAcUDAM4iAgCjRgEAJ/AAAGvWAgCaZAIAJ8EDALV4AQCEuwEADa0AAAPcAgAtFAIAfqEBAIz+AQC9OAMAeYUAALt5AgAuUQAA2SACAACEAwBgNgIAWIQBAEvPAABbxwAAnZsBADqAAQBCOgEAi5sDAMFqAgA=",
          "dtype": "i4"
         },
         "xaxis": "x",
         "y": {
          "bdata": "pA8WAFJZHQDPpBsAfhoXAEITEwBOOR4A+A8cABQrEwCJihEAAsMdAM3AFgBHLRcAZdcSAED+GACKcRYARnMbAPm+GwAKVRYAIOcTACVuHAC+9xUAOO0UABUgFAA+Jx4A5sQRAExFGQDNiRgAiLwYAEr2HADAZB0AotYTAPJQGACd0wwADFYLAIowEwCiEhAAAGMQAKLsGgAUiRAAn3AWANXEFgCunxoANBMUAB2QGACiFRYAIXgdAB9VDQBbFxIAakAcAFSlGACI7RIAcA8aAIGDHAAUnBwAyqIWAC3zFQCeAR4AXekRAIVaHgChnB0AiDUaANcoEQCNmRsAiWEcAI0oEwChfxgAKpIWAJYxFQBZdhEAcvobAFFZFgDL2RcAZ8ITAHawFQA+yQ8AKgMcAHjNDQC7vxsAMlEUAAq5GACQ5x0AhLYdAOSuFgBokxwAVvcPAP/jHQD11x0AQ4obAKSIFQDrwhwA0zUYAOrCGgDpIhIAPLkbAHbrDAAvuR0AlFMUAIzjHQCJiBMA8AccAJz9FABGxxwAPXIeAD0lEAAgHhEAqOIQAAsTHgBrbhMABSoWANgVHgChChcAh/USAAoQEgCkvhAAyrsRAEkLGACeKBQAYeEdAOVhGgAJsg4AHPgbACVAGgDWYxsAupYTAIU2GQDQ3xIAhiYTAPXuEQC1yQ0AP9cUAOwmFQBASxoAFj0XAKIBGwA=",
          "dtype": "i4"
         },
         "yaxis": "y"
        },
        {
         "customdata": {
          "bdata": "AAAAAAAAAAAAAQAAAAAAAgAAAAEAAQAAAAEAAQAAAAAAAAABAAAAAQAAAAAAAQACAAAAAQABAAEAAgAAAAA=",
          "dtype": "i1",
          "shape": "31, 2"
         },
         "hovertemplate": "color=0<br>Monthly Income ($)=%{x}<br>Loan Amount ($)=%{marker.size}<br>Segment=%{customdata[0]}<br>Recovery_Status=%{customdata[1]}<extra></extra>",
         "legendgroup": "0",
         "marker": {
          "color": "rgb(93, 105, 177)",
          "size": {
           "bdata": "jPAPAOo4GQAIIBgATj4YAFnzHAC3Ex0ALA0cALwrEgCzDxYA91cOAETDGgA/gAYAXyIVANWOHAARKR0Afg0aAEdWFAApcR4ANTwRAAV3EgAeShsA7DQZAKLNGADpZx0AVTwVAAH2GQCYoxQAjlkWALohGwD3hRsACOAcAA==",
           "dtype": "i4"
          },
          "sizemode": "area",
          "sizeref": 4988.3125,
          "symbol": "circle"
         },
         "mode": "markers",
         "name": "0",
         "orientation": "v",
         "showlegend": true,
         "type": "scatter",
         "x": {
          "bdata": "3e0AAACIAAAcUwIABoABACvCAABlvwAAQlQAAA5MAgD9bwAAzIYAANxuAwDgUAAAGEkAAIioAQAMtQAAMT8AAAOkAgCHVgAA3kgAAIj3AAAPUAEAoXoBABRhAQBBtQAAN5cAAJVXAAA+twAA4HoAAGc7AADYgwAAi2AAAA==",
          "dtype": "i4"
         },
         "xaxis": "x",
         "y": {
          "bdata": "jPAPAOo4GQAIIBgATj4YAFnzHAC3Ex0ALA0cALwrEgCzDxYA91cOAETDGgA/gAYAXyIVANWOHAARKR0Afg0aAEdWFAApcR4ANTwRAAV3EgAeShsA7DQZAKLNGADpZx0AVTwVAAH2GQCYoxQAjlkWALohGwD3hRsACOAcAA==",
          "dtype": "i4"
         },
         "yaxis": "y"
        },
        {
         "customdata": {
          "bdata": "AQABAQEAAQEBAAEAAQIBAgECAQABAAECAQIBAQEBAQEBAAEAAQABAAEBAQEBAAEAAQIBAQEAAQABAAECAQABAQEAAQABAAEAAQABAAEAAQEBAQEAAQABAAEAAQIBAQECAQIBAQEAAQABAQEAAQABAAEBAQEBAAEAAQABAQEAAQABAAEAAQEBAAEAAQABAQEBAQABAQEAAQEBAAECAQABAAEAAQIBAQEAAQABAQEBAQABAgEBAQABAAEBAQABAQEAAQABAAEAAQABAAEAAQABAgECAQEBAQEAAQABAQEAAQABAAEAAQABAAECAQABAAEAAQABAQEAAQABAAEAAQABAAEAAQIBAQECAQABAAEAAQIBAQECAQEBAQEBAQEBAAEAAQABAQECAQEBAQEBAQABAQEAAQEBAAEAAQEBAAEBAQABAQECAQABAAEAAQEBAQEBAQEBAQEAAQABAgEAAQABAgEAAQABAQEAAQEBAAECAQABAQEBAQIBAAEBAQABAQEAAQABAAEBAQEBAQEBAQABAQEAAQABAgEBAQABAAEAAQABAQEAAQABAAEAAQI=",
          "dtype": "i1",
          "shape": "214, 2"
         },
         "hovertemplate": "color=1<br>Monthly Income ($)=%{x}<br>Loan Amount ($)=%{marker.size}<br>Segment=%{customdata[0]}<br>Recovery_Status=%{customdata[1]}<extra></extra>",
         "legendgroup": "1",
         "marker": {
          "color": "rgb(82, 188, 163)",
          "size": {
           "bdata": "AloBAKUkCgAr8wMAm3YCAHUPDADzdAEAPq4NAKYwEgBtsQMADU4HALT2CgA/FQQAylAGAH7fAgDFOgQAFwsNAG7qBABvewsATfQBANqRBQAv0QEASC0NAAMdDADoQwUAypkEALTuAgCQugwAKGoHAHPyCQDONgYAXhICAPawBgBQDwcAyfgIAKBRCgDxEAcA+MUJAJgLBgCVtQEAVVQLAINoAQBETAcAUskGAKBQDwCAZQUAmycBAL8KCwD+wwQAKekFAG+JBQCvvgIAz0cFAOHaBQDDSgkAiW4GAF2IAwDx1QEA7A4IAMieAwAwBwgAXHUEAA1jBAAbTgUAn5ELABnJBAConw0A49EDABMFDwD7rAIA5i8BAFEpCgBlDwEAiBQEAJe2BgDB8QYAAvAEAJcCDwDL3wUAwMMCAM0PAwCEgQQA1CoCANsDAwDgyA0AsA8FAOtaBACUHwMAx8YEAIo/BQCNOAgA9uEGABMlCABwXAgA3HcJAKN3DQAF0gYA1owGACYcEADPIwgALKECAOMcCQBsHwIAZ5oEACmcCADsWQoAGUQEAJHsBgCUOAIAFMsGACO5CgAAGgwAG7AKAEpfCADSrAEAsRsNAKhACQCZ7QEAZdMSAPq6CAAGQQoA4rQBAKM1CAC+LAUAkQILAITAAgDlfgwAkgIMAJjzAAAwdQYAr6AMAH81CgCVwAQAs1MHAIqXAQBLjQEAUQwFAFmcAwCKgA0A5VUOAALPBgB/pQwAZcoMAO0MAgA8mw0AELkDAPOfBACiww0A0MoEAPPwBwCY7wkAfcsEALn1BADvngoAbyIHAMEEAgDouAQAyswCAEc4BwCrxgsAYHIBAHrTAAAB0wwA9zEGAMAkBABEbgEA5qMCAH6XBQBPVw4AMK4BAEgbBAC9GA0A/9YAAHEWAwB3fAIAjZIBAJoUAgBfyQUAofQGAK1JCQBGiQIA2SkIAArhBgCObAcAR30KAP1xBgAZSwYAx+oIAAJGBwA5BQIATG0LAHYECABRTg4AiRENADVmCgDzbAsAq3sDALEiAwCOAwYA2ncFAE80DQCMUQIAKz8FAFJPBQAd9wAAyGMGAHU/FQCk+AQA1IUMABlOBwCrfgoAZAsLALxNCwCjuQUAcgYGAA==",
           "dtype": "i4"
          },
          "sizemode": "area",
          "sizeref": 4988.3125,
          "symbol": "circle"
         },
         "mode": "markers",
         "name": "1",
         "orientation": "v",
         "showlegend": true,
         "type": "scatter",
         "x": {
          "bdata": "8CkBAJCiAwBYcAIAP5ACAGOMAQDEawIALhYCAFrpAADnZAEA9FADAKERAgBjlgIAmJQDANDjAQDXfAMARgUDAIjIAwDPcQEAZkEDAJJ/AwBU/gIAGXkBAJb0AgCrngEAsTsAAJh2AwAO0wIAuj4CAHxkAQA4rwIAo54CAIEMAgBvPwIAeSoCAL52AgB2DwIAhlQCAElHAQC9bwEA62kAABeUAAAV0QEAxLkAAMtrAwDnLwIASUIAAIHlAAATfgMANJUCAJzMAgCGIAIA7eoBAM7zAgBhkgEAsZgAAMY7AwB/tQMAxQ0BACq3AgC2bwEAV30CAEBZAwBH7QEApFUDADaHAwCAPAMAYtYCABT4AQD9xgMAhawAABtBAQCqSgAAecgAACS0AQDizwEAXvwBANiWAQDjpgAAXs0DACxeAgAqagMA9LQCADiAAwB3XQIAurMBAHEyAQBfZgMA4SUDAFmeAACgaQEAME0CAKO6AAAcjwAAeXoBAMcLAQC8ZwIAZqYCAMJaAQDuowIAiSQDABJuAQCEHgMArJoAACbUAAC7MQIAYl0CAKbpAQCsbQMAFFICAAwcAQA04QIAhlUDALqzAgAnFwIAOxADADU1AwAblQIA9YsBAPb3AQAD5wIAVFwDAMFTAgC7mgIA6w4CAA1qAACewQEAzSEBABJmAwAkkwEADnYDAC06AwANlwIAc18CACCqAwCxBgMAoMwAAGcNAgC8vwAAyeoBAC/VAQCqFAMAPrcCAPCVAQAqzgMAYToDADitAwAOfQAALHUBAC3dAgBHaAEAJnkAADqkAQBzvgIAXtgAAOWkAgCeSwAAFJUDAH4uAwCv5wEAU60CAMUDAwBxfwIAt7MAAATVAgCFDgEAu2oAADtZAwAacgIAH7UAAPgPAQASYgIAQEQBAH4mAgBb/QEAGUkDAENEAwCyyAAAN0sCACxzAgB9FwEAX8ECAN25AwAZTwIA/SQCAGgfAwBuYAAAw+kCAOThAAC2YwAAzqsAADWVAQCuVwEAChUDAI8vAwAQuQMAaRYBALdNAAA4DwIAY2QAAHgMAgAJkwMAcrIAAOIRAwDaLQIAMYEAAGk4AwDOywMALZwBACZjAADtSwIA008DAKPKAwDIvAEA6ZwAAA==",
          "dtype": "i4"
         },
         "xaxis": "x",
         "y": {
          "bdata": "AloBAKUkCgAr8wMAm3YCAHUPDADzdAEAPq4NAKYwEgBtsQMADU4HALT2CgA/FQQAylAGAH7fAgDFOgQAFwsNAG7qBABvewsATfQBANqRBQAv0QEASC0NAAMdDADoQwUAypkEALTuAgCQugwAKGoHAHPyCQDONgYAXhICAPawBgBQDwcAyfgIAKBRCgDxEAcA+MUJAJgLBgCVtQEAVVQLAINoAQBETAcAUskGAKBQDwCAZQUAmycBAL8KCwD+wwQAKekFAG+JBQCvvgIAz0cFAOHaBQDDSgkAiW4GAF2IAwDx1QEA7A4IAMieAwAwBwgAXHUEAA1jBAAbTgUAn5ELABnJBAConw0A49EDABMFDwD7rAIA5i8BAFEpCgBlDwEAiBQEAJe2BgDB8QYAAvAEAJcCDwDL3wUAwMMCAM0PAwCEgQQA1CoCANsDAwDgyA0AsA8FAOtaBACUHwMAx8YEAIo/BQCNOAgA9uEGABMlCABwXAgA3HcJAKN3DQAF0gYA1owGACYcEADPIwgALKECAOMcCQBsHwIAZ5oEACmcCADsWQoAGUQEAJHsBgCUOAIAFMsGACO5CgAAGgwAG7AKAEpfCADSrAEAsRsNAKhACQCZ7QEAZdMSAPq6CAAGQQoA4rQBAKM1CAC+LAUAkQILAITAAgDlfgwAkgIMAJjzAAAwdQYAr6AMAH81CgCVwAQAs1MHAIqXAQBLjQEAUQwFAFmcAwCKgA0A5VUOAALPBgB/pQwAZcoMAO0MAgA8mw0AELkDAPOfBACiww0A0MoEAPPwBwCY7wkAfcsEALn1BADvngoAbyIHAMEEAgDouAQAyswCAEc4BwCrxgsAYHIBAHrTAAAB0wwA9zEGAMAkBABEbgEA5qMCAH6XBQBPVw4AMK4BAEgbBAC9GA0A/9YAAHEWAwB3fAIAjZIBAJoUAgBfyQUAofQGAK1JCQBGiQIA2SkIAArhBgCObAcAR30KAP1xBgAZSwYAx+oIAAJGBwA5BQIATG0LAHYECABRTg4AiRENADVmCgDzbAsAq3sDALEiAwCOAwYA2ncFAE80DQCMUQIAKz8FAFJPBQAd9wAAyGMGAHU/FQCk+AQA1IUMABlOBwCrfgoAZAsLALxNCwCjuQUAcgYGAA==",
          "dtype": "i4"
         },
         "yaxis": "y"
        },
        {
         "customdata": {
          "bdata": "AgACAAIAAgACAQIBAgACAAIBAgECAQIBAgICAAIBAgECAAIBAgACAAIBAgACAAIBAgACAAIAAgACAQIAAgACAgIAAgACAAIAAgACAgIAAgECAQIBAgACAQIBAgACAgIAAgACAAIAAgACAgIAAgACAQIAAgECAAIAAgACAAICAgACAQIAAgACAQIBAgECAQIAAgACAAIAAgACAAICAgACAAIAAgECAQIBAgACAAIAAgECAAIAAgICAAIAAgECAgIAAgECAQIAAgACAQIAAgECAAIBAgACAQICAgACAAIAAgACAAIBAgECAAIBAgECAAIBAgE=",
          "dtype": "i1",
          "shape": "121, 2"
         },
         "hovertemplate": "color=2<br>Monthly Income ($)=%{x}<br>Loan Amount ($)=%{marker.size}<br>Segment=%{customdata[0]}<br>Recovery_Status=%{customdata[1]}<extra></extra>",
         "legendgroup": "2",
         "marker": {
          "color": "rgb(153, 201, 69)",
          "size": {
           "bdata": "E+sNANwaEwCBpA0AaB0PAL8nGQBfsRIAJDQJAOTNFABfpBUAGdAWAFjlEgBgzhkA5O4OAILNDgCgRxEApzcYABGgFgDKyhMA3BcJAKPIBwAGTBUAkJMLABJfCgBech0AE+EVAHojHQA3DQ0AcCoNAEZ2FwDT+gcAJx4aANXWCQAQDBsAalwNADdHFgCPyg0A4qUVAMrWGAB6QR0Ax8AVAMIGFwAHgxgAxmQQAEOVHQAwYxoAmqwJAJ3eDwC/kgoAYgMaACUWFADisBgAjv4XABmOGQC4lAwAYJsLAOu4HQD4tRUA+LQYAAD7FgD1GxYA6SMaACo0EADsNRoA7TgVANW3DgBqyAwAWdIQADh2GwATYREAKPsXAJ7/GgBHSBYAsy4OAGtkHQDArhEAfFQYAJNnGwCABgwA2WESADwAHgDgbRYAaooKAPIQFwBK4RYAXrAbAKzRFQDizgsAeCcSAPnrFQAj7AwAvscOAAM5GgAa7BgAEi8VAH+oFQChyA0AdSkbAGLUDwDz1xYAtcYcAJA+DgCqBRgAmB8YAMBYFACwDg8AdC0eAAylGAC61BYAC9gZAMExGABLwBoAulkXAHTZEABP7RwAUx4SAJPiFwAe0BsAQToaAEGEDQASvxcAfnwVAA==",
           "dtype": "i4"
          },
          "sizemode": "area",
          "sizeref": 4988.3125,
          "symbol": "circle"
         },
         "mode": "markers",
         "name": "2",
         "orientation": "v",
         "showlegend": true,
         "type": "scatter",
         "x": {
          "bdata": "OjcBAKEGAwClewEA42UBAPXtAQBrUgEAAscAADwSAQBjdwAAw6AAAB2CAgBgPgMAtKUCAF2LAwCMqQIAiF4CAEo1AQCr2wIALl4AAC7TAACfFgIAiWIAABgbAgD31wEAWPcAAEIkAgBpqgAAH8kAAOOsAwBy/gAA3+ECAJjGAQAApAIAVVoAAInOAQA4JwMA8I4DAOCkAgCMCQIA/aADAF04AwDqnQIABIAAAGwFAQCRKgIA08UAAKLnAQDskgAAsakDAN9TAABHngMAAjUBAOdLAwDGIQEAysoAAKrNAgDl7wAAy6gBAIWkAwDxwgMAnr8DAL6uAgAkVgEAW+ABAEOPAgBE4QAAAXACAKy/AgBvLgIAL1MDAPItAgDTVgIAYccAADt5AQB4RgMA3CwCAEY1AwB5fwAAaPoAALxFAQBgXgMAUBwDADCOAwDXfwAA2qkBAA24AgBiFAEAqigDANvQAAD9vgAAf+0BAPjrAQCkAQIA0zUBAJ8lAgDaWgEAFMQDANHqAADtWwEACwsBAJ+3AQBRsAEAkJ4AABC9AwAorQIAH4kCAPPLAQD/9gAAnKADALV7AwAsuwEA624CAF2KAwCnZQEAJQkCAJnFAACQ9QIAVeECAPw2AwCBLAEAhrcDAA==",
          "dtype": "i4"
         },
         "xaxis": "x",
         "y": {
          "bdata": "E+sNANwaEwCBpA0AaB0PAL8nGQBfsRIAJDQJAOTNFABfpBUAGdAWAFjlEgBgzhkA5O4OAILNDgCgRxEApzcYABGgFgDKyhMA3BcJAKPIBwAGTBUAkJMLABJfCgBech0AE+EVAHojHQA3DQ0AcCoNAEZ2FwDT+gcAJx4aANXWCQAQDBsAalwNADdHFgCPyg0A4qUVAMrWGAB6QR0Ax8AVAMIGFwAHgxgAxmQQAEOVHQAwYxoAmqwJAJ3eDwC/kgoAYgMaACUWFADisBgAjv4XABmOGQC4lAwAYJsLAOu4HQD4tRUA+LQYAAD7FgD1GxYA6SMaACo0EADsNRoA7TgVANW3DgBqyAwAWdIQADh2GwATYREAKPsXAJ7/GgBHSBYAsy4OAGtkHQDArhEAfFQYAJNnGwCABgwA2WESADwAHgDgbRYAaooKAPIQFwBK4RYAXrAbAKzRFQDizgsAeCcSAPnrFQAj7AwAvscOAAM5GgAa7BgAEi8VAH+oFQChyA0AdSkbAGLUDwDz1xYAtcYcAJA+DgCqBRgAmB8YAMBYFACwDg8AdC0eAAylGAC61BYAC9gZAMExGABLwBoAulkXAHTZEABP7RwAUx4SAJPiFwAe0BsAQToaAEGEDQASvxcAfnwVAA==",
          "dtype": "i4"
         },
         "yaxis": "y"
        }
       ],
       "layout": {
        "legend": {
         "itemsizing": "constant",
         "title": {
          "text": "Borrower Segment"
         },
         "tracegroupgap": 0
        },
        "template": {
         "data": {
          "bar": [
           {
            "error_x": {
             "color": "#2a3f5f"
            },
            "error_y": {
             "color": "#2a3f5f"
            },
            "marker": {
             "line": {
              "color": "white",
              "width": 0.5
             },
             "pattern": {
              "fillmode": "overlay",
              "size": 10,
              "solidity": 0.2
             }
            },
            "type": "bar"
           }
          ],
          "barpolar": [
           {
            "marker": {
             "line": {
              "color": "white",
              "width": 0.5
             },
             "pattern": {
              "fillmode": "overlay",
              "size": 10,
              "solidity": 0.2
             }
            },
            "type": "barpolar"
           }
          ],
          "carpet": [
           {
            "aaxis": {
             "endlinecolor": "#2a3f5f",
             "gridcolor": "#C8D4E3",
             "linecolor": "#C8D4E3",
             "minorgridcolor": "#C8D4E3",
             "startlinecolor": "#2a3f5f"
            },
            "baxis": {
             "endlinecolor": "#2a3f5f",
             "gridcolor": "#C8D4E3",
             "linecolor": "#C8D4E3",
             "minorgridcolor": "#C8D4E3",
             "startlinecolor": "#2a3f5f"
            },
            "type": "carpet"
           }
          ],
          "choropleth": [
           {
            "colorbar": {
             "outlinewidth": 0,
             "ticks": ""
            },
            "type": "choropleth"
           }
          ],
          "contour": [
           {
            "colorbar": {
             "outlinewidth": 0,
             "ticks": ""
            },
            "colorscale": [
             [
              0,
              "#0d0887"
             ],
             [
              0.1111111111111111,
              "#46039f"
             ],
             [
              0.2222222222222222,
              "#7201a8"
             ],
             [
              0.3333333333333333,
              "#9c179e"
             ],
             [
              0.4444444444444444,
              "#bd3786"
             ],
             [
              0.5555555555555556,
              "#d8576b"
             ],
             [
              0.6666666666666666,
              "#ed7953"
             ],
             [
              0.7777777777777778,
              "#fb9f3a"
             ],
             [
              0.8888888888888888,
              "#fdca26"
             ],
             [
              1,
              "#f0f921"
             ]
            ],
            "type": "contour"
           }
          ],
          "contourcarpet": [
           {
            "colorbar": {
             "outlinewidth": 0,
             "ticks": ""
            },
            "type": "contourcarpet"
           }
          ],
          "heatmap": [
           {
            "colorbar": {
             "outlinewidth": 0,
             "ticks": ""
            },
            "colorscale": [
             [
              0,
              "#0d0887"
             ],
             [
              0.1111111111111111,
              "#46039f"
             ],
             [
              0.2222222222222222,
              "#7201a8"
             ],
             [
              0.3333333333333333,
              "#9c179e"
             ],
             [
              0.4444444444444444,
              "#bd3786"
             ],
             [
              0.5555555555555556,
              "#d8576b"
             ],
             [
              0.6666666666666666,
              "#ed7953"
             ],
             [
              0.7777777777777778,
              "#fb9f3a"
             ],
             [
              0.8888888888888888,
              "#fdca26"
             ],
             [
              1,
              "#f0f921"
             ]
            ],
            "type": "heatmap"
           }
          ],
          "histogram": [
           {
            "marker": {
             "pattern": {
              "fillmode": "overlay",
              "size": 10,
              "solidity": 0.2
             }
            },
            "type": "histogram"
           }
          ],
          "histogram2d": [
           {
            "colorbar": {
             "outlinewidth": 0,
             "ticks": ""
            },
            "colorscale": [
             [
              0,
              "#0d0887"
             ],
             [
              0.1111111111111111,
              "#46039f"
             ],
             [
              0.2222222222222222,
              "#7201a8"
             ],
             [
              0.3333333333333333,
              "#9c179e"
             ],
             [
              0.4444444444444444,
              "#bd3786"
             ],
             [
              0.5555555555555556,
              "#d8576b"
             ],
             [
              0.6666666666666666,
              "#ed7953"
             ],
             [
              0.7777777777777778,
              "#fb9f3a"
             ],
             [
              0.8888888888888888,
              "#fdca26"
             ],
             [
              1,
              "#f0f921"
             ]
            ],
            "type": "histogram2d"
           }
          ],
          "histogram2dcontour": [
           {
            "colorbar": {
             "outlinewidth": 0,
             "ticks": ""
            },
            "colorscale": [
             [
              0,
              "#0d0887"
             ],
             [
              0.1111111111111111,
              "#46039f"
             ],
             [
              0.2222222222222222,
              "#7201a8"
             ],
             [
              0.3333333333333333,
              "#9c179e"
             ],
             [
              0.4444444444444444,
              "#bd3786"
             ],
             [
              0.5555555555555556,
              "#d8576b"
             ],
             [
              0.6666666666666666,
              "#ed7953"
             ],
             [
              0.7777777777777778,
              "#fb9f3a"
             ],
             [
              0.8888888888888888,
              "#fdca26"
             ],
             [
              1,
              "#f0f921"
             ]
            ],
            "type": "histogram2dcontour"
           }
          ],
          "mesh3d": [
           {
            "colorbar": {
             "outlinewidth": 0,
             "ticks": ""
            },
            "type": "mesh3d"
           }
          ],
          "parcoords": [
           {
            "line": {
             "colorbar": {
              "outlinewidth": 0,
              "ticks": ""
             }
            },
            "type": "parcoords"
           }
          ],
          "pie": [
           {
            "automargin": true,
            "type": "pie"
           }
          ],
          "scatter": [
           {
            "fillpattern": {
             "fillmode": "overlay",
             "size": 10,
             "solidity": 0.2
            },
            "type": "scatter"
           }
          ],
          "scatter3d": [
           {
            "line": {
             "colorbar": {
              "outlinewidth": 0,
              "ticks": ""
             }
            },
            "marker": {
             "colorbar": {
              "outlinewidth": 0,
              "ticks": ""
             }
            },
            "type": "scatter3d"
           }
          ],
          "scattercarpet": [
           {
            "marker": {
             "colorbar": {
              "outlinewidth": 0,
              "ticks": ""
             }
            },
            "type": "scattercarpet"
           }
          ],
          "scattergeo": [
           {
            "marker": {
             "colorbar": {
              "outlinewidth": 0,
              "ticks": ""
             }
            },
            "type": "scattergeo"
           }
          ],
          "scattergl": [
           {
            "marker": {
             "colorbar": {
              "outlinewidth": 0,
              "ticks": ""
             }
            },
            "type": "scattergl"
           }
          ],
          "scattermap": [
           {
            "marker": {
             "colorbar": {
              "outlinewidth": 0,
              "ticks": ""
             }
            },
            "type": "scattermap"
           }
          ],
          "scattermapbox": [
           {
            "marker": {
             "colorbar": {
              "outlinewidth": 0,
              "ticks": ""
             }
            },
            "type": "scattermapbox"
           }
          ],
          "scatterpolar": [
           {
            "marker": {
             "colorbar": {
              "outlinewidth": 0,
              "ticks": ""
             }
            },
            "type": "scatterpolar"
           }
          ],
          "scatterpolargl": [
           {
            "marker": {
             "colorbar": {
              "outlinewidth": 0,
              "ticks": ""
             }
            },
            "type": "scatterpolargl"
           }
          ],
          "scatterternary": [
           {
            "marker": {
             "colorbar": {
              "outlinewidth": 0,
              "ticks": ""
             }
            },
            "type": "scatterternary"
           }
          ],
          "surface": [
           {
            "colorbar": {
             "outlinewidth": 0,
             "ticks": ""
            },
            "colorscale": [
             [
              0,
              "#0d0887"
             ],
             [
              0.1111111111111111,
              "#46039f"
             ],
             [
              0.2222222222222222,
              "#7201a8"
             ],
             [
              0.3333333333333333,
              "#9c179e"
             ],
             [
              0.4444444444444444,
              "#bd3786"
             ],
             [
              0.5555555555555556,
              "#d8576b"
             ],
             [
              0.6666666666666666,
              "#ed7953"
             ],
             [
              0.7777777777777778,
              "#fb9f3a"
             ],
             [
              0.8888888888888888,
              "#fdca26"
             ],
             [
              1,
              "#f0f921"
             ]
            ],
            "type": "surface"
           }
          ],
          "table": [
           {
            "cells": {
             "fill": {
              "color": "#EBF0F8"
             },
             "line": {
              "color": "white"
             }
            },
            "header": {
             "fill": {
              "color": "#C8D4E3"
             },
             "line": {
              "color": "white"
             }
            },
            "type": "table"
           }
          ]
         },
         "layout": {
          "annotationdefaults": {
           "arrowcolor": "#2a3f5f",
           "arrowhead": 0,
           "arrowwidth": 1
          },
          "autotypenumbers": "strict",
          "coloraxis": {
           "colorbar": {
            "outlinewidth": 0,
            "ticks": ""
           }
          },
          "colorscale": {
           "diverging": [
            [
             0,
             "#8e0152"
            ],
            [
             0.1,
             "#c51b7d"
            ],
            [
             0.2,
             "#de77ae"
            ],
            [
             0.3,
             "#f1b6da"
            ],
            [
             0.4,
             "#fde0ef"
            ],
            [
             0.5,
             "#f7f7f7"
            ],
            [
             0.6,
             "#e6f5d0"
            ],
            [
             0.7,
             "#b8e186"
            ],
            [
             0.8,
             "#7fbc41"
            ],
            [
             0.9,
             "#4d9221"
            ],
            [
             1,
             "#276419"
            ]
           ],
           "sequential": [
            [
             0,
             "#0d0887"
            ],
            [
             0.1111111111111111,
             "#46039f"
            ],
            [
             0.2222222222222222,
             "#7201a8"
            ],
            [
             0.3333333333333333,
             "#9c179e"
            ],
            [
             0.4444444444444444,
             "#bd3786"
            ],
            [
             0.5555555555555556,
             "#d8576b"
            ],
            [
             0.6666666666666666,
             "#ed7953"
            ],
            [
             0.7777777777777778,
             "#fb9f3a"
            ],
            [
             0.8888888888888888,
             "#fdca26"
            ],
            [
             1,
             "#f0f921"
            ]
           ],
           "sequentialminus": [
            [
             0,
             "#0d0887"
            ],
            [
             0.1111111111111111,
             "#46039f"
            ],
            [
             0.2222222222222222,
             "#7201a8"
            ],
            [
             0.3333333333333333,
             "#9c179e"
            ],
            [
             0.4444444444444444,
             "#bd3786"
            ],
            [
             0.5555555555555556,
             "#d8576b"
            ],
            [
             0.6666666666666666,
             "#ed7953"
            ],
            [
             0.7777777777777778,
             "#fb9f3a"
            ],
            [
             0.8888888888888888,
             "#fdca26"
            ],
            [
             1,
             "#f0f921"
            ]
           ]
          },
          "colorway": [
           "#636efa",
           "#EF553B",
           "#00cc96",
           "#ab63fa",
           "#FFA15A",
           "#19d3f3",
           "#FF6692",
           "#B6E880",
           "#FF97FF",
           "#FECB52"
          ],
          "font": {
           "color": "#2a3f5f"
          },
          "geo": {
           "bgcolor": "white",
           "lakecolor": "white",
           "landcolor": "white",
           "showlakes": true,
           "showland": true,
           "subunitcolor": "#C8D4E3"
          },
          "hoverlabel": {
           "align": "left"
          },
          "hovermode": "closest",
          "mapbox": {
           "style": "light"
          },
          "paper_bgcolor": "white",
          "plot_bgcolor": "white",
          "polar": {
           "angularaxis": {
            "gridcolor": "#EBF0F8",
            "linecolor": "#EBF0F8",
            "ticks": ""
           },
           "bgcolor": "white",
           "radialaxis": {
            "gridcolor": "#EBF0F8",
            "linecolor": "#EBF0F8",
            "ticks": ""
           }
          },
          "scene": {
           "xaxis": {
            "backgroundcolor": "white",
            "gridcolor": "#DFE8F3",
            "gridwidth": 2,
            "linecolor": "#EBF0F8",
            "showbackground": true,
            "ticks": "",
            "zerolinecolor": "#EBF0F8"
           },
           "yaxis": {
            "backgroundcolor": "white",
            "gridcolor": "#DFE8F3",
            "gridwidth": 2,
            "linecolor": "#EBF0F8",
            "showbackground": true,
            "ticks": "",
            "zerolinecolor": "#EBF0F8"
           },
           "zaxis": {
            "backgroundcolor": "white",
            "gridcolor": "#DFE8F3",
            "gridwidth": 2,
            "linecolor": "#EBF0F8",
            "showbackground": true,
            "ticks": "",
            "zerolinecolor": "#EBF0F8"
           }
          },
          "shapedefaults": {
           "line": {
            "color": "#2a3f5f"
           }
          },
          "ternary": {
           "aaxis": {
            "gridcolor": "#DFE8F3",
            "linecolor": "#A2B1C6",
            "ticks": ""
           },
           "baxis": {
            "gridcolor": "#DFE8F3",
            "linecolor": "#A2B1C6",
            "ticks": ""
           },
           "bgcolor": "white",
           "caxis": {
            "gridcolor": "#DFE8F3",
            "linecolor": "#A2B1C6",
            "ticks": ""
           }
          },
          "title": {
           "x": 0.05
          },
          "xaxis": {
           "automargin": true,
           "gridcolor": "#EBF0F8",
           "linecolor": "#EBF0F8",
           "ticks": "",
           "title": {
            "standoff": 15
           },
           "zerolinecolor": "#EBF0F8",
           "zerolinewidth": 2
          },
          "yaxis": {
           "automargin": true,
           "gridcolor": "#EBF0F8",
           "linecolor": "#EBF0F8",
           "ticks": "",
           "title": {
            "standoff": 15
           },
           "zerolinecolor": "#EBF0F8",
           "zerolinewidth": 2
          }
         }
        },
        "title": {
         "text": "Borrower Segments Based on Monthly Income and Loan Amount"
        },
        "xaxis": {
         "anchor": "y",
         "domain": [
          0,
          1
         ],
         "title": {
          "text": "Monthly Income ($)"
         }
        },
        "yaxis": {
         "anchor": "x",
         "domain": [
          0,
          1
         ],
         "title": {
          "text": "Loan Amount ($)"
         }
        }
       }
      }
     },
     "metadata": {},
     "output_type": "display_data"
    }
   ],
   "source": [
    "optimal_k = 4\n",
    "kmeans = KMeans(n_clusters=optimal_k,random_state=42,n_init=10)\n",
    "\n",
    "df['Borrower_Segment'] = kmeans.fit_predict(df_scaled_kmeans)\n",
    "\n",
    "fig = px.scatter(df, x='Monthly_Income', y='Loan_Amount',\n",
    "                 color=df['Borrower_Segment'].astype(str), size='Loan_Amount', \n",
    "                 hover_data={'Monthly_Income': True, 'Loan_Amount': True, 'Borrower_Segment': True, 'Recovery_Status': True}, \n",
    "                 title=\"Borrower Segments Based on Monthly Income and Loan Amount\",\n",
    "                 labels={\"Monthly_Income\": \"Monthly Income ($)\", \"Loan_Amount\": \"Loan Amount ($)\", \"Borrower_Segment\": \"Segment\"},\n",
    "                 color_discrete_sequence=px.colors.qualitative.Vivid)\n",
    "\n",
    "fig.update_layout(\n",
    "    xaxis_title=\"Monthly Income ($)\",\n",
    "    yaxis_title=\"Loan Amount ($)\",\n",
    "    template=\"plotly_white\",\n",
    "    legend_title=\"Borrower Segment\"\n",
    ")\n",
    "\n",
    "fig.show()"
   ]
  },
  {
   "cell_type": "code",
   "execution_count": null,
   "id": "f98f634c",
   "metadata": {},
   "outputs": [
    {
     "name": "stdout",
     "output_type": "stream",
     "text": [
      "\n",
      "Segment Profiles:\n",
      "                 Monthly_Income                          Loan_Amount  \\\n",
      "                           mean    median    min     max        mean   \n",
      "Borrower_Segment                                                       \n",
      "0                      62132.97   46348.0  15207  224988  1554375.48   \n",
      "1                     140380.24  145466.5  15281  249386   458425.45   \n",
      "2                     132331.61  126453.0  21471  246804  1343514.90   \n",
      "3                     145039.87  139731.5  18726  249746  1519399.46   \n",
      "\n",
      "                                                Age Interest_Rate  \\\n",
      "                     median     min      max   mean          mean   \n",
      "Borrower_Segment                                                    \n",
      "0                 1651948.0  426047  1995049  45.48          9.38   \n",
      "1                  416329.0   54138  1392501  43.17         11.87   \n",
      "2                 1429932.0  510115  1977716  42.84         10.22   \n",
      "3                 1501115.0  742924  1995325  42.73         11.40   \n",
      "\n",
      "                 Num_Missed_Payments EMI_to_income_ratio Loan_to_income_ratio  \\\n",
      "                                mean                mean                 mean   \n",
      "Borrower_Segment                                                                \n",
      "0                               1.97                1.28                42.40   \n",
      "1                               1.88                0.06                 4.70   \n",
      "2                               1.50                0.17                13.84   \n",
      "3                               2.31                0.17                14.62   \n",
      "\n",
      "                                                    Recovery_Status  \n",
      "                                                           <lambda>  \n",
      "Borrower_Segment                                                     \n",
      "0                 {0: 0.5483870967741935, 1: 0.3548387096774194,...  \n",
      "1                 {0: 0.5654205607476636, 1: 0.3037383177570093,...  \n",
      "2                 {0: 0.5785123966942148, 1: 0.33884297520661155...  \n",
      "3                 {0: 0.6567164179104478, 1: 0.27611940298507465...  \n"
     ]
    }
   ],
   "source": [
    "print(\"\\nSegment Profiles:\")\n",
    "segment_profiles = df.groupby('Borrower_Segment').agg({\n",
    "    'Monthly_Income': ['mean', 'median', 'min', 'max'],\n",
    "    'Loan_Amount': ['mean', 'median', 'min', 'max'],\n",
    "    'Age': 'mean',\n",
    "    'Interest_Rate': 'mean',\n",
    "    'Num_Missed_Payments': 'mean',\n",
    "    'EMI_to_income_ratio': 'mean', \n",
    "    'Loan_to_income_ratio': 'mean', \n",
    "    'Recovery_Status': lambda x: x.value_counts(normalize=True).to_dict() \n",
    "}).round(2)\n",
    "print(segment_profiles)"
   ]
  },
  {
   "cell_type": "code",
   "execution_count": 8,
   "id": "ee9b265a",
   "metadata": {},
   "outputs": [],
   "source": [
    "df['Segment_Name'] = df['Borrower_Segment'].map({\n",
    "    0: 'Stable Income, Manageable Loan, Low Risk',\n",
    "    1: 'High Loan Burden, Critical Risk',\n",
    "    2: 'High Missed Payments, Behavioral Risk',\n",
    "    3: 'High Income, Large Loan, Managed Risk'\n",
    "})"
   ]
  },
  {
   "cell_type": "code",
   "execution_count": null,
   "id": "3e3ef451",
   "metadata": {},
   "outputs": [
    {
     "name": "stdout",
     "output_type": "stream",
     "text": [
      "\n",
      "DataFrame with Segments and High Risk Flag (Revised):\n",
      "  Borrower_ID  Monthly_Income  Loan_Amount  Borrower_Segment  \\\n",
      "0       BRW_1          215422      1445796                 3   \n",
      "1       BRW_2           60893      1044620                 0   \n",
      "2       BRW_3          116520      1923410                 3   \n",
      "3       BRW_4          140818      1811663                 3   \n",
      "4       BRW_5           76272        88578                 1   \n",
      "\n",
      "                               Segment_Name  High_Risk_Flag  Recovery_Status  \\\n",
      "0     High Income, Large Loan, Managed Risk               0                1   \n",
      "1  Stable Income, Manageable Loan, Low Risk               0                0   \n",
      "2     High Income, Large Loan, Managed Risk               0                0   \n",
      "3     High Income, Large Loan, Managed Risk               0                0   \n",
      "4           High Loan Burden, Critical Risk               1                0   \n",
      "\n",
      "   EMI_to_income_ratio  Num_Missed_Payments  \n",
      "0             0.022546                    0  \n",
      "1             0.910346                    0  \n",
      "2             0.122937                    2  \n",
      "3             0.044378                    1  \n",
      "4             0.010705                    1  \n",
      "\n",
      "Segmented and flagged data saved to C:\\Loan Recovery ML Project\\data\\processed\\segmented_and_flagged_data.csv\n"
     ]
    }
   ],
   "source": [
    "df['High_Risk_Flag'] = df['Segment_Name'].apply(lambda x: 1 if x in ['High Loan Burden, Critical Risk', 'High Missed Payments, Behavioral Risk'] else 0)\n",
    "\n",
    "print(\"\\nDataFrame with Segments and High Risk Flag (Revised):\")\n",
    "print(df[['Borrower_ID', 'Monthly_Income', 'Loan_Amount', 'Borrower_Segment', 'Segment_Name', 'High_Risk_Flag', 'Recovery_Status', 'EMI_to_income_ratio', 'Num_Missed_Payments']].head())\n",
    "\n",
    "\n",
    "save_processed_data(df, r'C:\\Loan Recovery ML Project\\data\\processed\\segmented_and_flagged_data.csv') #Now save this as a new csv file.\n",
    "print(\"\\nSegmented and flagged data saved to C:\\Loan Recovery ML Project\\data\\processed\\segmented_and_flagged_data.csv\")"
   ]
  }
 ],
 "metadata": {
  "kernelspec": {
   "display_name": "Python 3",
   "language": "python",
   "name": "python3"
  },
  "language_info": {
   "codemirror_mode": {
    "name": "ipython",
    "version": 3
   },
   "file_extension": ".py",
   "mimetype": "text/x-python",
   "name": "python",
   "nbconvert_exporter": "python",
   "pygments_lexer": "ipython3",
   "version": "3.11.13"
  }
 },
 "nbformat": 4,
 "nbformat_minor": 5
}
